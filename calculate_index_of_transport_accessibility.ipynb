{
  "nbformat": 4,
  "nbformat_minor": 0,
  "metadata": {
    "colab": {
      "name": "calculate_index_of_transport_accessibility.ipynb",
      "private_outputs": true,
      "provenance": [],
      "collapsed_sections": [],
      "mount_file_id": "https://github.com/dringtech/index-of-transport-accessibility/blob/main/calculate_index_of_transport_accessibility.ipynb",
      "authorship_tag": "ABX9TyNJ5N6YAQjUr8rIA0MQJUnQ",
      "include_colab_link": true
    },
    "kernelspec": {
      "name": "python3",
      "display_name": "Python 3"
    },
    "language_info": {
      "name": "python"
    }
  },
  "cells": [
    {
      "cell_type": "markdown",
      "metadata": {
        "id": "view-in-github",
        "colab_type": "text"
      },
      "source": [
        "<a href=\"https://colab.research.google.com/github/dringtech/index-of-transport-accessibility/blob/main/calculate_index_of_transport_accessibility.ipynb\" target=\"_parent\"><img src=\"https://colab.research.google.com/assets/colab-badge.svg\" alt=\"Open In Colab\"/></a>"
      ]
    },
    {
      "cell_type": "markdown",
      "source": [
        "# Calculate Index of Transport Accessibility\n",
        "\n",
        "This workbook attempts to calculate an index of transport accessibility for each MSOA in the provided dataset.\n",
        "\n",
        "You will need to prepare your working environment by running the data preparation script."
      ],
      "metadata": {
        "id": "GKSoNtHEMCjL"
      }
    },
    {
      "cell_type": "markdown",
      "source": [
        "## Setup\n",
        "\n",
        "Install dependencies. Depending on where you run this, you might need to add to this list.\n"
      ],
      "metadata": {
        "id": "xwUDs1aSN5Uy"
      }
    },
    {
      "cell_type": "code",
      "source": [
        "!pip install pyproj progress_tracker"
      ],
      "metadata": {
        "id": "dCFJVPczNqTP"
      },
      "execution_count": null,
      "outputs": []
    },
    {
      "cell_type": "markdown",
      "source": [
        "Import modules"
      ],
      "metadata": {
        "id": "sYPvmEdKNyEk"
      }
    },
    {
      "cell_type": "code",
      "execution_count": null,
      "metadata": {
        "id": "bCvlNrVVJm6q"
      },
      "outputs": [],
      "source": [
        "import os\n",
        "import re\n",
        "import json\n",
        "from functools import partial\n",
        "\n",
        "from shapely.geometry import Polygon, MultiPolygon\n",
        "from shapely.ops import transform\n",
        "import pyproj\n",
        "from pyproj import CRS\n",
        "import pandas as pd\n",
        "from progress_tracker import track_progress"
      ]
    },
    {
      "cell_type": "markdown",
      "source": [
        "Set the working and data directory."
      ],
      "metadata": {
        "id": "-KOQUqlTM9KM"
      }
    },
    {
      "cell_type": "code",
      "source": [
        "working_dir = '/content/drive/MyDrive/index-of-transport-accessibility'\n",
        "os.chdir(working_dir)\n",
        "geojson_dir = 'data/NorthernIsochrones'"
      ],
      "metadata": {
        "id": "gzueMUK3MNGY"
      },
      "execution_count": null,
      "outputs": []
    },
    {
      "cell_type": "markdown",
      "source": [
        "## Projection\n",
        "\n",
        "The GeoJSON files have coordinates expressed in the WGS84 standard. This means that area would be calculated in degrees squared, which is not that useful for our purposes - although it's a fairly good proxy for the properly projected area.\n",
        "\n",
        "We need to set up a conversion from WGS84 (EPSG:4326) to OSGB36 (EPSG:27700) for later use."
      ],
      "metadata": {
        "id": "Kw2dp7NYOJMg"
      }
    },
    {
      "cell_type": "code",
      "source": [
        "proj_from = CRS.from_epsg(4326) # EPSG 4326 is WGS84\n",
        "proj_to = CRS.from_epsg(27700)  # EPSG 27700 is OSGB\n",
        "proj = partial(pyproj.transform, proj_from, proj_to)"
      ],
      "metadata": {
        "id": "LLYff2DdOER6"
      },
      "execution_count": null,
      "outputs": []
    },
    {
      "cell_type": "markdown",
      "source": [
        "## Setup files\n",
        "\n",
        "Get a list of files to process - we're focussing on the 15 minute car journeys for this analysis."
      ],
      "metadata": {
        "id": "oU2MWeQFOM5_"
      }
    },
    {
      "cell_type": "code",
      "source": [
        "files = [f for f in os.listdir(geojson_dir) if re.match('.*CAR.*15minutes\\.geojson', f)]"
      ],
      "metadata": {
        "id": "hiMk0Zg4OL5e"
      },
      "execution_count": null,
      "outputs": []
    },
    {
      "cell_type": "markdown",
      "source": [
        "Capture the area of each MSOA file by construcing the polygon (including cutouts) and then calculating the area (possibly projected)."
      ],
      "metadata": {
        "id": "sc21VI-TTKsZ"
      }
    },
    {
      "cell_type": "code",
      "source": [
        "df = pd.DataFrame(data = { 'msoa': [], 'mode': [], 'time': [], 'area': [] })\n",
        "\n",
        "for filename in track_progress(files, every_n_records=100, every_n_seconds=30):\n",
        "    # print(\".\", end='')\n",
        "    _, _, mode, _, msoa, _, _, _, _, time, *rest = re.split('[\\._]', filename)\n",
        "\n",
        "    with open(os.path.join(geojson_dir, filename)) as file:\n",
        "        data = json.loads(file.read())\n",
        "\n",
        "    def make_polygon(c):\n",
        "        shell, *holes = c\n",
        "        return Polygon(shell, holes)\n",
        "\n",
        "    if data['type'] == 'Polygon':\n",
        "        isochrone = make_polygon(data['coordinates'])\n",
        "\n",
        "    elif data['type'] == 'MultiPolygon':\n",
        "        isochrone = MultiPolygon([make_polygon(c) for c in data['coordinates']])\n",
        "\n",
        "    # It's very slow re-projecting, and areas are broadly correlated if unprojected\n",
        "    area = transform(proj, isochrone).area\n",
        "    # area = isochrone.area\n",
        "\n",
        "    df.loc[len(df.index)] = [msoa, mode, time, area]"
      ],
      "metadata": {
        "id": "HDNTz4GeOT0I"
      },
      "execution_count": null,
      "outputs": []
    },
    {
      "cell_type": "markdown",
      "source": [
        "Ooof. That took a long time. Let's never do that again if we don't have to... Load the parquet file with `df = pd.read_parquet('data.parquet')`."
      ],
      "metadata": {
        "id": "FoVWG-VWWFjb"
      }
    },
    {
      "cell_type": "code",
      "source": [
        "df.to_parquet('raw_data.parquet')"
      ],
      "metadata": {
        "id": "1fQYKirRVqJQ"
      },
      "execution_count": null,
      "outputs": []
    },
    {
      "cell_type": "code",
      "source": [
        "df = pd.read_parquet('raw_data.parquet')"
      ],
      "metadata": {
        "id": "FrnBjpNSV5QZ"
      },
      "execution_count": null,
      "outputs": []
    },
    {
      "cell_type": "markdown",
      "source": [
        "## Calculate the Index of Transport Accessibility\n",
        "\n",
        "Calculate the index of transport accessibility by scaling the area of the 15 minute car accessibility to the maximum area. This is to be improved, a lot."
      ],
      "metadata": {
        "id": "aycZ8HRySOHi"
      }
    },
    {
      "cell_type": "code",
      "source": [
        "max_area = max(df['area'])\n",
        "df['index-of-transport-accessibility'] = (df['area']/max_area).round(3)"
      ],
      "metadata": {
        "id": "O5kgs-JYQaiY"
      },
      "execution_count": null,
      "outputs": []
    },
    {
      "cell_type": "markdown",
      "source": [
        "Let's plot it, to see what it looks like"
      ],
      "metadata": {
        "id": "sxAr_CUSSuoi"
      }
    },
    {
      "cell_type": "code",
      "source": [
        "df.sort_values(by=['index-of-transport-accessibility'], ignore_index=True).plot(y=['index-of-transport-accessibility'])"
      ],
      "metadata": {
        "id": "tsA6msfoP2q9"
      },
      "execution_count": null,
      "outputs": []
    },
    {
      "cell_type": "code",
      "source": [
        "df[['msoa', 'index-of-transport-accessibility']].sort_values(by=['msoa']).to_csv('accessibility_index.csv', index=False)"
      ],
      "metadata": {
        "id": "zTy0BDjzOUXc"
      },
      "execution_count": null,
      "outputs": []
    },
    {
      "cell_type": "markdown",
      "source": [
        "# Alternative method\n",
        "\n",
        "On a hunch, I'm now just looking at the number of MSOAs that can be reached within 60 minutes, regardless of mode of transport"
      ],
      "metadata": {
        "id": "ftDHwoYIToHJ"
      }
    },
    {
      "cell_type": "code",
      "source": [
        "travel_times = pd.read_csv('data/travel-times.csv').drop(columns=['OriginLatitute', 'OriginLongitude', 'DestinationLatitute', 'DestinationLongitude'])"
      ],
      "metadata": {
        "id": "cJftys4Dfp-4"
      },
      "execution_count": null,
      "outputs": []
    },
    {
      "cell_type": "markdown",
      "source": [
        "Calculate the IOTA based on a bare count of MSOAs that can be reached."
      ],
      "metadata": {
        "id": "e71jj7-FXpWD"
      }
    },
    {
      "cell_type": "code",
      "source": [
        "iota = travel_times.loc[travel_times.Minutes <=60].drop(columns=['Mode', 'Minutes']).drop_duplicates().groupby('OriginName').count()\n",
        "iota.columns = ['index-of-transport-accessibility']\n",
        "iota.index.name = 'msoa'\n",
        "reachability = iota.sort_index()"
      ],
      "metadata": {
        "id": "65dG0uYJNud7"
      },
      "execution_count": null,
      "outputs": []
    },
    {
      "cell_type": "code",
      "source": [
        "iota.to_csv('accessibility_index.csv')"
      ],
      "metadata": {
        "id": "VvEbcA5IN8BG"
      },
      "execution_count": null,
      "outputs": []
    },
    {
      "cell_type": "markdown",
      "source": [
        "There's sort of a correlation, but it's not great"
      ],
      "metadata": {
        "id": "NLfik3iKX3wH"
      }
    },
    {
      "cell_type": "code",
      "source": [
        "twin_iotas = df[['msoa', 'index-of-transport-accessibility']].sort_values(by=['msoa']).merge(iota, on='msoa')\n",
        "twin_iotas.columns = ['msoa', 'area_iota', 'count_iota']\n",
        "twin_iotas.index = twin_iotas.msoa\n",
        "twin_iotas = twin_iotas.drop(columns = ['msoa'])\n",
        "twin_iotas"
      ],
      "metadata": {
        "id": "NCFWLmq7WGok"
      },
      "execution_count": null,
      "outputs": []
    },
    {
      "cell_type": "code",
      "source": [
        "twin_iotas.sort_values(by='count_iota').plot()"
      ],
      "metadata": {
        "id": "XCX47GWuXLES"
      },
      "execution_count": null,
      "outputs": []
    },
    {
      "cell_type": "code",
      "source": [
        "twin_iotas.plot.scatter(x='count_iota', y='area_iota')"
      ],
      "metadata": {
        "id": "T4nVhb_FX_eH"
      },
      "execution_count": null,
      "outputs": []
    },
    {
      "cell_type": "code",
      "source": [
        "def calc_iota(filter):\n",
        "  r = travel_times.loc[filter].drop(columns=['Mode', 'Minutes']).drop_duplicates().groupby('OriginName').count()\n",
        "  r.columns = ['index-of-transport-accessibility']\n",
        "  r.index.name = 'msoa'\n",
        "  return r"
      ],
      "metadata": {
        "id": "k5iD8RgCYMnl"
      },
      "execution_count": null,
      "outputs": []
    },
    {
      "cell_type": "code",
      "source": [
        "iota_car = calc_iota(travel_times.Mode == 'CAR')\n",
        "iota_car.to_csv('accessibility_index_car.csv')\n",
        "\n",
        "iota_transit = calc_iota(travel_times.Mode == 'TRANSIT,WALK')\n",
        "iota_transit.to_csv('accessibility_index_transit.csv')\n",
        "\n",
        "iota_walk = calc_iota(travel_times.Mode == 'WALK')\n",
        "iota_walk.to_csv('accessibility_index_walk.csv')\n",
        "\n",
        "iota_walk = calc_iota(travel_times.Mode == 'BICYCLE')\n",
        "iota_walk.to_csv('accessibility_index_bicycle.csv')"
      ],
      "metadata": {
        "id": "T-V2OJmJ5Uuz"
      },
      "execution_count": null,
      "outputs": []
    },
    {
      "cell_type": "code",
      "source": [
        ""
      ],
      "metadata": {
        "id": "CcexYlGf5-de"
      },
      "execution_count": null,
      "outputs": []
    }
  ]
}