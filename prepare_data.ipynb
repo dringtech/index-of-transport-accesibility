{
  "nbformat": 4,
  "nbformat_minor": 0,
  "metadata": {
    "colab": {
      "name": "prepare_data.ipynb",
      "provenance": [],
      "collapsed_sections": [],
      "private_outputs": true,
      "mount_file_id": "1RcZv4d0lXgbk-wW2f3ZzmdoJbnM8peBH",
      "authorship_tag": "ABX9TyMekgeuHFdgfljMcQ2Y3A5Y",
      "include_colab_link": true
    },
    "kernelspec": {
      "name": "python3",
      "display_name": "Python 3"
    },
    "language_info": {
      "name": "python"
    }
  },
  "cells": [
    {
      "cell_type": "markdown",
      "metadata": {
        "id": "view-in-github",
        "colab_type": "text"
      },
      "source": [
        "<a href=\"https://colab.research.google.com/github/dringtech/index-of-transport-accesibility/blob/main/prepare_data.ipynb\" target=\"_parent\"><img src=\"https://colab.research.google.com/assets/colab-badge.svg\" alt=\"Open In Colab\"/></a>"
      ]
    },
    {
      "cell_type": "markdown",
      "source": [
        "# Data Preparation\n",
        "\n",
        "This workbook prepares the data directory for calculatiion of the index."
      ],
      "metadata": {
        "id": "M4IMUD-wKqhx"
      }
    },
    {
      "cell_type": "code",
      "execution_count": null,
      "metadata": {
        "id": "-Mj4x3fEGLvm"
      },
      "outputs": [],
      "source": [
        "import os\n",
        "from os.path import exists\n",
        "import re\n",
        "import urllib.request\n",
        "import zipfile"
      ]
    },
    {
      "cell_type": "markdown",
      "source": [
        "Define a function which will download the file (if it doesn't already exist)"
      ],
      "metadata": {
        "id": "C6mutBFZHfqe"
      }
    },
    {
      "cell_type": "code",
      "source": [
        "def download(url, local_file):\n",
        "    if not exists(local_file):\n",
        "        print(\"Downloading {} to '{}'\".format(url, local_file))\n",
        "        urllib.request.urlretrieve(url, local_file)\n",
        "    else:\n",
        "        print(\"'{}' already exists\".format(local_file))"
      ],
      "metadata": {
        "id": "Poq9jpp9HSaf"
      },
      "execution_count": null,
      "outputs": []
    },
    {
      "cell_type": "markdown",
      "source": [
        "Create the target directory.\n",
        "\n",
        "You'll need to mount your Google Drive in the runtime and create a folder where the data will be written. If it's named 'index-of-transport-accessibility', the config below will work. Otherwise, you'll need to alter the `data_path` as required. "
      ],
      "metadata": {
        "id": "vMKuSP7CHxdE"
      }
    },
    {
      "cell_type": "code",
      "source": [
        "data_path=\"/content/drive/MyDrive/index-of-transport-accessibility/data\"\n",
        "\n",
        "if not exists(data_path):\n",
        "    os.mkdir(data_path)\n",
        "\n",
        "os.chdir(data_path)"
      ],
      "metadata": {
        "id": "9N31LnqLH1XO"
      },
      "execution_count": null,
      "outputs": []
    },
    {
      "cell_type": "markdown",
      "source": [
        "Download the travel times `csv` file."
      ],
      "metadata": {
        "id": "Ze5MyzzIH0bn"
      }
    },
    {
      "cell_type": "code",
      "source": [
        "download(\n",
        "    'https://github.com/odileeds/OpenJourneyTime/blob/master/TravelTimesNorthEngland_MSOAtoMSOA_ToArriveBy_0830am_20191009.csv?raw=true',\n",
        "    'travel-times.csv'\n",
        ")"
      ],
      "metadata": {
        "id": "pQVgX6TtHUJv"
      },
      "execution_count": null,
      "outputs": []
    },
    {
      "cell_type": "markdown",
      "source": [
        "Download the GeoJSON zip files."
      ],
      "metadata": {
        "id": "z8QBRnNPJDNE"
      }
    },
    {
      "cell_type": "code",
      "source": [
        "download(\n",
        "    'https://www.imactivate.com/northernisochrones/NorthernIsochrones.zip',\n",
        "    'NorthernIsochrones.zip'\n",
        ")"
      ],
      "metadata": {
        "id": "TYST_QVdHWH9"
      },
      "execution_count": null,
      "outputs": []
    },
    {
      "cell_type": "code",
      "source": [
        "with zipfile.ZipFile(os.path.join('NorthernIsochrones.zip')) as zf:\n",
        "    pattern = re.compile(\".*CAR.*15minutes.geojson\")\n",
        "    members = [m for m in zf.namelist() if pattern.match(m)]\n",
        "    zf.extractall(path='data', members=members)"
      ],
      "metadata": {
        "id": "8qxx7BY8Irr9"
      },
      "execution_count": null,
      "outputs": []
    },
    {
      "cell_type": "code",
      "source": [
        ""
      ],
      "metadata": {
        "id": "JHr7426uJMSw"
      },
      "execution_count": null,
      "outputs": []
    }
  ]
}