{
  "nbformat": 4,
  "nbformat_minor": 0,
  "metadata": {
    "colab": {
      "name": "Data Preparation.ipynb",
      "provenance": [],
      "collapsed_sections": [],
      "mount_file_id": "1zlL9ijoan3Vnq6cHndK2Y_aQfO-cuaPo",
      "authorship_tag": "ABX9TyMoOSlnbZ74YSm6rU5WITaB",
      "include_colab_link": true
    },
    "kernelspec": {
      "name": "python3",
      "display_name": "Python 3"
    },
    "language_info": {
      "name": "python"
    }
  },
  "cells": [
    {
      "cell_type": "markdown",
      "metadata": {
        "id": "view-in-github",
        "colab_type": "text"
      },
      "source": [
        "<a href=\"https://colab.research.google.com/github/dringtech/index-of-transport-accesibility/blob/main/Data_Preparation.ipynb\" target=\"_parent\"><img src=\"https://colab.research.google.com/assets/colab-badge.svg\" alt=\"Open In Colab\"/></a>"
      ]
    },
    {
      "cell_type": "markdown",
      "source": [
        "# Data Preparation\n",
        "\n",
        "This workbook prepares the data directory for calculatiion of the index."
      ],
      "metadata": {
        "id": "M4IMUD-wKqhx"
      }
    },
    {
      "cell_type": "code",
      "execution_count": 8,
      "metadata": {
        "id": "-Mj4x3fEGLvm"
      },
      "outputs": [],
      "source": [
        "import os\n",
        "from os.path import exists\n",
        "import re\n",
        "import urllib.request\n",
        "import zipfile"
      ]
    },
    {
      "cell_type": "markdown",
      "source": [
        "Define a function which will download the file (if it doesn't already exist)"
      ],
      "metadata": {
        "id": "C6mutBFZHfqe"
      }
    },
    {
      "cell_type": "code",
      "source": [
        "def download(url, local_file):\n",
        "    if not exists(local_file):\n",
        "        print(\"Downloading {} to '{}'\".format(url, local_file))\n",
        "        urllib.request.urlretrieve(url, local_file)\n",
        "    else:\n",
        "        print(\"'{}' already exists\".format(local_file))"
      ],
      "metadata": {
        "id": "Poq9jpp9HSaf"
      },
      "execution_count": 5,
      "outputs": []
    },
    {
      "cell_type": "markdown",
      "source": [
        "Create the target directory.\n",
        "\n",
        "You'll need to mount your Google Drive in the runtime and create a folder where the data will be written. If it's named 'index-of-transport-accessibility', the config below will work. Otherwise, you'll need to alter the `data_path` as required. "
      ],
      "metadata": {
        "id": "vMKuSP7CHxdE"
      }
    },
    {
      "cell_type": "code",
      "source": [
        "data_path=\"drive/MyDrive/index-of-transport-accessibility/data\"\n",
        "\n",
        "if not exists(data_path):\n",
        "    os.mkdir(data_path)"
      ],
      "metadata": {
        "id": "9N31LnqLH1XO"
      },
      "execution_count": 21,
      "outputs": []
    },
    {
      "cell_type": "markdown",
      "source": [
        "Download the travel times `csv` file."
      ],
      "metadata": {
        "id": "Ze5MyzzIH0bn"
      }
    },
    {
      "cell_type": "code",
      "source": [
        "download(\n",
        "    'https://github.com/odileeds/OpenJourneyTime/blob/master/TravelTimesNorthEngland_MSOAtoMSOA_ToArriveBy_0830am_20191009.csv?raw=true',\n",
        "    os.path.join(data_path, 'travel-times.csv')\n",
        ")"
      ],
      "metadata": {
        "colab": {
          "base_uri": "https://localhost:8080/"
        },
        "id": "pQVgX6TtHUJv",
        "outputId": "68d0f149-f5a1-4bc4-bcab-9deaa8c68fd3"
      },
      "execution_count": 22,
      "outputs": [
        {
          "output_type": "stream",
          "name": "stdout",
          "text": [
            "'drive/MyDrive/index-of-transport-accessibility/data/travel-times.csv' already exists\n"
          ]
        }
      ]
    },
    {
      "cell_type": "markdown",
      "source": [
        "Download the GeoJSON zip files."
      ],
      "metadata": {
        "id": "z8QBRnNPJDNE"
      }
    },
    {
      "cell_type": "code",
      "source": [
        "download(\n",
        "    'https://www.imactivate.com/northernisochrones/NorthernIsochrones.zip',\n",
        "    os.path.join(data_path, 'NorthernIsochrones.zip')\n",
        ")"
      ],
      "metadata": {
        "colab": {
          "base_uri": "https://localhost:8080/"
        },
        "id": "TYST_QVdHWH9",
        "outputId": "e94ccf21-687f-49b7-c6e1-fe1eddbd84d0"
      },
      "execution_count": 24,
      "outputs": [
        {
          "output_type": "stream",
          "name": "stdout",
          "text": [
            "'drive/MyDrive/index-of-transport-accessibility/data/NorthernIsochrones.zip' already exists\n"
          ]
        }
      ]
    },
    {
      "cell_type": "code",
      "source": [
        "with zipfile.ZipFile(os.path.join(data_path, 'NorthernIsochrones.zip')) as zf:\n",
        "    pattern = re.compile(\".*CAR.*15minutes.geojson\")\n",
        "    members = [m for m in zf.namelist() if pattern.match(m)]\n",
        "    zf.extractall(path='data', members=members)"
      ],
      "metadata": {
        "id": "8qxx7BY8Irr9"
      },
      "execution_count": 25,
      "outputs": []
    },
    {
      "cell_type": "code",
      "source": [
        ""
      ],
      "metadata": {
        "id": "JHr7426uJMSw"
      },
      "execution_count": null,
      "outputs": []
    }
  ]
}