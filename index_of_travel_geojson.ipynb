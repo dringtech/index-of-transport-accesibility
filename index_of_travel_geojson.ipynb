{
  "nbformat": 4,
  "nbformat_minor": 0,
  "metadata": {
    "colab": {
      "name": "index-of-travel-geojson.ipynb",
      "provenance": [],
      "collapsed_sections": [],
      "mount_file_id": "1V24rzkND2aACj_vslKaXHk3arR9kmRBq",
      "authorship_tag": "ABX9TyO0cAYrSefOtkm+Fie1a9WN",
      "include_colab_link": true
    },
    "kernelspec": {
      "name": "python3",
      "display_name": "Python 3"
    },
    "language_info": {
      "name": "python"
    }
  },
  "cells": [
    {
      "cell_type": "markdown",
      "metadata": {
        "id": "view-in-github",
        "colab_type": "text"
      },
      "source": [
        "<a href=\"https://colab.research.google.com/github/dringtech/index-of-transport-accessibility/blob/main/index_of_travel_geojson.ipynb\" target=\"_parent\"><img src=\"https://colab.research.google.com/assets/colab-badge.svg\" alt=\"Open In Colab\"/></a>"
      ]
    },
    {
      "cell_type": "code",
      "execution_count": 84,
      "metadata": {
        "id": "hPEGGma0qzQH"
      },
      "outputs": [],
      "source": [
        "import os\n",
        "import pandas as pd\n",
        "import matplotlib.cm as cm\n",
        "import matplotlib.colors as colors\n",
        "import zipfile\n",
        "import json"
      ]
    },
    {
      "cell_type": "code",
      "source": [
        "os.chdir('/content/drive/MyDrive/index-of-transport-accessibility')"
      ],
      "metadata": {
        "id": "oxR-Wds3q7Xk"
      },
      "execution_count": 85,
      "outputs": []
    },
    {
      "cell_type": "code",
      "source": [
        "with zipfile.ZipFile('geojson/msoa.geojsonl.zip') as zf:\n",
        "  zf.extractall(path = 'geojson')"
      ],
      "metadata": {
        "id": "aQCU4CMArRfg"
      },
      "execution_count": 86,
      "outputs": []
    },
    {
      "cell_type": "code",
      "source": [
        "df = pd.read_csv('accessibility_index.csv')\n",
        "df = df.set_index(['msoa'])\n",
        "# df = df.drop('msoa', axis='columns')\n",
        "df['index-of-transport-accessibility'] = df['index-of-transport-accessibility'].astype(float)\n",
        "c = (df['index-of-transport-accessibility'] / df['index-of-transport-accessibility'].max()).apply(cm.hot).apply(colors.rgb2hex)\n",
        "c.name = 'c'\n",
        "df = df.join(c)"
      ],
      "metadata": {
        "id": "Bm8XI84LrIjK"
      },
      "execution_count": 88,
      "outputs": []
    },
    {
      "cell_type": "code",
      "source": [
        "df"
      ],
      "metadata": {
        "colab": {
          "base_uri": "https://localhost:8080/",
          "height": 455
        },
        "id": "e20BpkdNiiIY",
        "outputId": "aa5bfa67-381b-4618-e58d-5ec1a0c21330"
      },
      "execution_count": 89,
      "outputs": [
        {
          "output_type": "execute_result",
          "data": {
            "text/plain": [
              "           index-of-transport-accessibility        c\n",
              "msoa                                                \n",
              "E02000984                             570.0  #ff9000\n",
              "E02000985                             601.0  #ffa500\n",
              "E02000986                             644.0  #ffc200\n",
              "E02000987                             745.0  #ffff0b\n",
              "E02000988                             715.0  #fff400\n",
              "...                                     ...      ...\n",
              "E02006916                             805.0  #ffff4a\n",
              "E02006917                             808.0  #ffff4e\n",
              "E02006932                             489.0  #ff5900\n",
              "E02006933                             359.0  #ff0000\n",
              "E02006934                             367.0  #ff0500\n",
              "\n",
              "[1956 rows x 2 columns]"
            ],
            "text/html": [
              "\n",
              "  <div id=\"df-cd9ec20c-1399-4592-9cb2-6b25c7bcbb9c\">\n",
              "    <div class=\"colab-df-container\">\n",
              "      <div>\n",
              "<style scoped>\n",
              "    .dataframe tbody tr th:only-of-type {\n",
              "        vertical-align: middle;\n",
              "    }\n",
              "\n",
              "    .dataframe tbody tr th {\n",
              "        vertical-align: top;\n",
              "    }\n",
              "\n",
              "    .dataframe thead th {\n",
              "        text-align: right;\n",
              "    }\n",
              "</style>\n",
              "<table border=\"1\" class=\"dataframe\">\n",
              "  <thead>\n",
              "    <tr style=\"text-align: right;\">\n",
              "      <th></th>\n",
              "      <th>index-of-transport-accessibility</th>\n",
              "      <th>c</th>\n",
              "    </tr>\n",
              "    <tr>\n",
              "      <th>msoa</th>\n",
              "      <th></th>\n",
              "      <th></th>\n",
              "    </tr>\n",
              "  </thead>\n",
              "  <tbody>\n",
              "    <tr>\n",
              "      <th>E02000984</th>\n",
              "      <td>570.0</td>\n",
              "      <td>#ff9000</td>\n",
              "    </tr>\n",
              "    <tr>\n",
              "      <th>E02000985</th>\n",
              "      <td>601.0</td>\n",
              "      <td>#ffa500</td>\n",
              "    </tr>\n",
              "    <tr>\n",
              "      <th>E02000986</th>\n",
              "      <td>644.0</td>\n",
              "      <td>#ffc200</td>\n",
              "    </tr>\n",
              "    <tr>\n",
              "      <th>E02000987</th>\n",
              "      <td>745.0</td>\n",
              "      <td>#ffff0b</td>\n",
              "    </tr>\n",
              "    <tr>\n",
              "      <th>E02000988</th>\n",
              "      <td>715.0</td>\n",
              "      <td>#fff400</td>\n",
              "    </tr>\n",
              "    <tr>\n",
              "      <th>...</th>\n",
              "      <td>...</td>\n",
              "      <td>...</td>\n",
              "    </tr>\n",
              "    <tr>\n",
              "      <th>E02006916</th>\n",
              "      <td>805.0</td>\n",
              "      <td>#ffff4a</td>\n",
              "    </tr>\n",
              "    <tr>\n",
              "      <th>E02006917</th>\n",
              "      <td>808.0</td>\n",
              "      <td>#ffff4e</td>\n",
              "    </tr>\n",
              "    <tr>\n",
              "      <th>E02006932</th>\n",
              "      <td>489.0</td>\n",
              "      <td>#ff5900</td>\n",
              "    </tr>\n",
              "    <tr>\n",
              "      <th>E02006933</th>\n",
              "      <td>359.0</td>\n",
              "      <td>#ff0000</td>\n",
              "    </tr>\n",
              "    <tr>\n",
              "      <th>E02006934</th>\n",
              "      <td>367.0</td>\n",
              "      <td>#ff0500</td>\n",
              "    </tr>\n",
              "  </tbody>\n",
              "</table>\n",
              "<p>1956 rows × 2 columns</p>\n",
              "</div>\n",
              "      <button class=\"colab-df-convert\" onclick=\"convertToInteractive('df-cd9ec20c-1399-4592-9cb2-6b25c7bcbb9c')\"\n",
              "              title=\"Convert this dataframe to an interactive table.\"\n",
              "              style=\"display:none;\">\n",
              "        \n",
              "  <svg xmlns=\"http://www.w3.org/2000/svg\" height=\"24px\"viewBox=\"0 0 24 24\"\n",
              "       width=\"24px\">\n",
              "    <path d=\"M0 0h24v24H0V0z\" fill=\"none\"/>\n",
              "    <path d=\"M18.56 5.44l.94 2.06.94-2.06 2.06-.94-2.06-.94-.94-2.06-.94 2.06-2.06.94zm-11 1L8.5 8.5l.94-2.06 2.06-.94-2.06-.94L8.5 2.5l-.94 2.06-2.06.94zm10 10l.94 2.06.94-2.06 2.06-.94-2.06-.94-.94-2.06-.94 2.06-2.06.94z\"/><path d=\"M17.41 7.96l-1.37-1.37c-.4-.4-.92-.59-1.43-.59-.52 0-1.04.2-1.43.59L10.3 9.45l-7.72 7.72c-.78.78-.78 2.05 0 2.83L4 21.41c.39.39.9.59 1.41.59.51 0 1.02-.2 1.41-.59l7.78-7.78 2.81-2.81c.8-.78.8-2.07 0-2.86zM5.41 20L4 18.59l7.72-7.72 1.47 1.35L5.41 20z\"/>\n",
              "  </svg>\n",
              "      </button>\n",
              "      \n",
              "  <style>\n",
              "    .colab-df-container {\n",
              "      display:flex;\n",
              "      flex-wrap:wrap;\n",
              "      gap: 12px;\n",
              "    }\n",
              "\n",
              "    .colab-df-convert {\n",
              "      background-color: #E8F0FE;\n",
              "      border: none;\n",
              "      border-radius: 50%;\n",
              "      cursor: pointer;\n",
              "      display: none;\n",
              "      fill: #1967D2;\n",
              "      height: 32px;\n",
              "      padding: 0 0 0 0;\n",
              "      width: 32px;\n",
              "    }\n",
              "\n",
              "    .colab-df-convert:hover {\n",
              "      background-color: #E2EBFA;\n",
              "      box-shadow: 0px 1px 2px rgba(60, 64, 67, 0.3), 0px 1px 3px 1px rgba(60, 64, 67, 0.15);\n",
              "      fill: #174EA6;\n",
              "    }\n",
              "\n",
              "    [theme=dark] .colab-df-convert {\n",
              "      background-color: #3B4455;\n",
              "      fill: #D2E3FC;\n",
              "    }\n",
              "\n",
              "    [theme=dark] .colab-df-convert:hover {\n",
              "      background-color: #434B5C;\n",
              "      box-shadow: 0px 1px 3px 1px rgba(0, 0, 0, 0.15);\n",
              "      filter: drop-shadow(0px 1px 2px rgba(0, 0, 0, 0.3));\n",
              "      fill: #FFFFFF;\n",
              "    }\n",
              "  </style>\n",
              "\n",
              "      <script>\n",
              "        const buttonEl =\n",
              "          document.querySelector('#df-cd9ec20c-1399-4592-9cb2-6b25c7bcbb9c button.colab-df-convert');\n",
              "        buttonEl.style.display =\n",
              "          google.colab.kernel.accessAllowed ? 'block' : 'none';\n",
              "\n",
              "        async function convertToInteractive(key) {\n",
              "          const element = document.querySelector('#df-cd9ec20c-1399-4592-9cb2-6b25c7bcbb9c');\n",
              "          const dataTable =\n",
              "            await google.colab.kernel.invokeFunction('convertToInteractive',\n",
              "                                                     [key], {});\n",
              "          if (!dataTable) return;\n",
              "\n",
              "          const docLinkHtml = 'Like what you see? Visit the ' +\n",
              "            '<a target=\"_blank\" href=https://colab.research.google.com/notebooks/data_table.ipynb>data table notebook</a>'\n",
              "            + ' to learn more about interactive tables.';\n",
              "          element.innerHTML = '';\n",
              "          dataTable['output_type'] = 'display_data';\n",
              "          await google.colab.output.renderOutput(dataTable, element);\n",
              "          const docLink = document.createElement('div');\n",
              "          docLink.innerHTML = docLinkHtml;\n",
              "          element.appendChild(docLink);\n",
              "        }\n",
              "      </script>\n",
              "    </div>\n",
              "  </div>\n",
              "  "
            ]
          },
          "metadata": {},
          "execution_count": 89
        }
      ]
    },
    {
      "cell_type": "code",
      "source": [
        "collection = []\n",
        "with open('geojson/msoa.geojsonl.json') as f:\n",
        "  for line in f.readlines():\n",
        "    layer = json.loads(line)\n",
        "    try:\n",
        "      iota = df.at[layer['properties']['msoa11cd'], 'index-of-transport-accessibility']\n",
        "      c = df.at[layer['properties']['msoa11cd'], 'c']\n",
        "      layer['properties']['iota'] = iota\n",
        "      layer['properties']['c'] = c\n",
        "      collection.append(layer)\n",
        "    except:\n",
        "      continue\n"
      ],
      "metadata": {
        "id": "3ki0Fj3PtErz"
      },
      "execution_count": 90,
      "outputs": []
    },
    {
      "cell_type": "code",
      "source": [
        "geojson = {\n",
        "    'type': 'FeatureCollection',\n",
        "    'features': collection\n",
        "}"
      ],
      "metadata": {
        "id": "IpPfXYHv0jn4"
      },
      "execution_count": 91,
      "outputs": []
    },
    {
      "cell_type": "code",
      "source": [
        "with open('iota.geojson', 'w') as f:\n",
        "  f.write(json.dumps(geojson))"
      ],
      "metadata": {
        "id": "Pa9nsiAc0yq7"
      },
      "execution_count": 92,
      "outputs": []
    },
    {
      "cell_type": "code",
      "source": [
        ""
      ],
      "metadata": {
        "id": "jQKcWhE721JN"
      },
      "execution_count": null,
      "outputs": []
    },
    {
      "cell_type": "code",
      "source": [
        ""
      ],
      "metadata": {
        "colab": {
          "base_uri": "https://localhost:8080/",
          "height": 36
        },
        "id": "f1P7f8mA3Q4y",
        "outputId": "c8a3460f-0f36-4f23-a210-2f76bfe8d4f4"
      },
      "execution_count": null,
      "outputs": [
        {
          "output_type": "execute_result",
          "data": {
            "application/vnd.google.colaboratory.intrinsic+json": {
              "type": "string"
            },
            "text/plain": [
              "'#440256'"
            ]
          },
          "metadata": {},
          "execution_count": 76
        }
      ]
    },
    {
      "cell_type": "code",
      "source": [
        ""
      ],
      "metadata": {
        "id": "Fcz3KSvZTH26"
      },
      "execution_count": null,
      "outputs": []
    }
  ]
}